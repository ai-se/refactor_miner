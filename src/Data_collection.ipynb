{
 "cells": [
  {
   "cell_type": "code",
   "execution_count": 1,
   "metadata": {},
   "outputs": [],
   "source": [
    "from refactoring_getter import refactormine\n",
    "from metrics_getter import git_understand\n",
    "from utils import regex_matcher\n",
    "import pandas as pd\n",
    "import numpy as np"
   ]
  },
  {
   "cell_type": "code",
   "execution_count": 2,
   "metadata": {},
   "outputs": [],
   "source": [
    "repo = 'https://github.com/jeeeyul/eclipse-themes.git' #'https://github.com/apache/ant.git'\n",
    "name = 'eclipse-themes'\n",
    "lang = 'java'"
   ]
  },
  {
   "cell_type": "code",
   "execution_count": null,
   "metadata": {},
   "outputs": [],
   "source": [
    "mine = refactormine.RefactorMine(repo,name)\n",
    "mine.get_refactored_commits()"
   ]
  },
  {
   "cell_type": "code",
   "execution_count": 3,
   "metadata": {},
   "outputs": [
    {
     "name": "stdout",
     "output_type": "stream",
     "text": [
      "/Users/suvodeepmajumder/Documents/AI4SE/refactor_miner/results/refactored/eclipse-themes.csv\n"
     ]
    }
   ],
   "source": [
    "metrics = git_understand.MetricsGetter(repo,name,lang)"
   ]
  },
  {
   "cell_type": "code",
   "execution_count": null,
   "metadata": {},
   "outputs": [
    {
     "name": "stdout",
     "output_type": "stream",
     "text": [
      "63\n",
      "0 ('72f61ec9b85a740fd09d10ad711e275d2ec2e564', '60ca80df3f268c097c527f2708b38e5038777870')\n",
      "1 ('9be59b60a094db1cec0e8a908466b7ead3406b4c', 'd28b1e3acff732840ccc06ebbd5fbf352760236c')\n",
      "2 ('aa3f404075c2d3661e8e6e49c188a426798072bd', '4bb7fc57805d550efeb5a935aee6e152964c829b')\n",
      "3 ('57993ffdf3eebb8b7ff10e1684b58aff0a795d93', '57d649216b92575e89b0b3a991a67ea481c2ce8b')\n",
      "4 ('18241ca44c154ea4b7c5bb1c86bbc80a947de554', '8d14ab3552384cd6514fb7365b81603d9acc6e30')\n",
      "5 ('b677e70309d6ba1bfb9a722513cca4cfbc3518c6', 'f9b5a3d62c72d3e4fe857943beb512c854dbe4fc')\n",
      "6 ('2a79ef439016a0c9d37886d61ae18e8408ba3b0e', '3003335bd7e2e6398dd70e439c4a97eed6311e4e')\n",
      "7 ('947c1782fba80c650f3702a4257f964127cb3d61', 'fcc4b73ba92f4617409ee084c1ce0db828eb9421')\n",
      "8 ('23524f58902d9d6cd10ee0490b17166e3cc36d41', 'c9e58bcecde7470ea29a3277b3162fd5cccbb35f')\n",
      "9 ('c694fb2d8da17918a3b8420773419274596d812f', 'ff72f23643c8f8058cbb4499a62c4b5ac76cb204')\n",
      "10 ('c8a69ff14662927b835e9304996576eabce48e12', 'd8e13b09c0f80c3ed1e41519626de8b7fa59fd82')\n",
      "11 ('a9001e7280920353c9b2bb16b0276aeff6427692', 'ce4351109ff256f668eb218312a9e02efa46b848')\n"
     ]
    }
   ],
   "source": [
    "x = metrics.get_all_metrics()"
   ]
  },
  {
   "cell_type": "code",
   "execution_count": null,
   "metadata": {},
   "outputs": [],
   "source": [
    "metrics.save_to_csv()"
   ]
  },
  {
   "cell_type": "code",
   "execution_count": null,
   "metadata": {},
   "outputs": [],
   "source": [
    "x.groupby('Refactoring_type').count()"
   ]
  },
  {
   "cell_type": "code",
   "execution_count": null,
   "metadata": {},
   "outputs": [],
   "source": [
    "a = {'a':1,'b':2,'c':3}"
   ]
  },
  {
   "cell_type": "code",
   "execution_count": null,
   "metadata": {},
   "outputs": [],
   "source": [
    "c = np.array(list(a.keys()))\n",
    "d = np.array(['d','e'])"
   ]
  }
 ],
 "metadata": {
  "kernelspec": {
   "display_name": "Python 3",
   "language": "python",
   "name": "python3"
  },
  "language_info": {
   "codemirror_mode": {
    "name": "ipython",
    "version": 3
   },
   "file_extension": ".py",
   "mimetype": "text/x-python",
   "name": "python",
   "nbconvert_exporter": "python",
   "pygments_lexer": "ipython3",
   "version": "3.7.3"
  }
 },
 "nbformat": 4,
 "nbformat_minor": 2
}
