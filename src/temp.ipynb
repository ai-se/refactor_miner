{
 "cells": [
  {
   "cell_type": "code",
   "execution_count": 2,
   "metadata": {},
   "outputs": [],
   "source": [
    "from refactoring_getter import refactormine\n",
    "from metrics_getter import git_understand\n",
    "from utils import regex_matcher\n",
    "import pandas as pd"
   ]
  },
  {
   "cell_type": "code",
   "execution_count": null,
   "metadata": {},
   "outputs": [],
   "source": [
    "mine = refactormine.RefactorMine('https://github.com/raphw/byte-buddy.git','byte-buddy')\n",
    "mine.get_refactored_commits()"
   ]
  },
  {
   "cell_type": "code",
   "execution_count": 3,
   "metadata": {},
   "outputs": [
    {
     "name": "stdout",
     "output_type": "stream",
     "text": [
      "/Users/suvodeepmajumder/Documents/AI4SE/refactor_miner/results/refactored/byte-buddy.csv\n"
     ]
    }
   ],
   "source": [
    "metrics = git_understand.MetricsGetter('https://github.com/raphw/byte-buddy.git','byte-buddy','java')"
   ]
  },
  {
   "cell_type": "code",
   "execution_count": 4,
   "metadata": {},
   "outputs": [
    {
     "name": "stdout",
     "output_type": "stream",
     "text": [
      "0 40924472104df02759a355a85466a76a587f6931\n",
      "1 4c10e087fd32a8d10899b821f0ec9381ee034b48\n",
      "2 a86519d6c8268080693dba558db7b841dd7c7ce1\n",
      "3 e674f44be96ccd330a9dbf8ef7429de14d05f07f\n",
      "4 2885b703789d01f1780c965fc2328dcac456768a\n",
      "5 d2a47867540aba0ac16a8c82a6df7a2cd6145b1b\n",
      "6 bc22f12e1bf942b4e7a49081f48f2538235524f5\n",
      "7 3af6b65cc774f1d7c6c053ef953afdad4c1eb5c5\n",
      "8 ea6cc5a37394c9a34e62ac996feee19e542db102\n",
      "9 522ff980481f4c3a24dc8efca4843cc71cecb89b\n",
      "10 0c640e59bf41ac782524e9328a82604f94fa2373\n",
      "11 00663baf3d2b3c896cab1f5762b3785de9d1b416\n",
      "12 9a4df900e74e44031ab573644fac5068fda2ec44\n",
      "13 86c52a3ceaa65a13a1ab1d483f4a9a3d4873e706\n",
      "14 cd478b68a1f5595ef2ecb6a1f2c6f04685a8259d\n",
      "15 dfa4d2eeb01884a103516ae90de92183fc4f322a\n",
      "16 40ef58f00e174e5e5cfcded2f4d569603fd2a9a4\n",
      "17 d0be1bda900fcac4213db9ff9800d0bcb1c00bb3\n",
      "18 8cc6f79e36de51b41aad0ba8043c3cdfe603f03f\n",
      "19 f2421689ce39aaaf4a4937e165a60bfac5714979\n",
      "20 0f8bd858074a2ea210b3052442e9d7d395e7940b\n",
      "21 4e5a66551281dba65a6eb411de76b34507caea5d\n",
      "22 19a6e172942b65b491fd05e31f5a76c0b626feb2\n",
      "23 944ea9059d6453f454ad76d834b3efaabe774afc\n",
      "24 eb2d0307369923b5954b04d0fa62e5acd83daa00\n",
      "25 ae2f02b0b4fed03236fe20dfb669d10fe02aad0c\n",
      "26 0a6367adfc40cd690ecda9a1cfacbb7efb55054d\n",
      "27 b25fc993832f54658988186f34c03bb8aa3522fc\n",
      "28 bfbd9899cbaa833a7d30f42614fb390f47d924b4\n",
      "29 b33b538dccb10db82b3cfa819998223dbe827436\n",
      "30 230bfde72708d02a350eed4f3c22d0aa4b9f0d46\n",
      "31 4be6dbe6943e77dc03c396cc90ab0ca79d95d0a7\n",
      "32 e9a1905057c4cb313e330e10cf6f320b8149b076\n",
      "33 5519cf9302cd0c61f278f2eb2d0f80796532e351\n"
     ]
    }
   ],
   "source": [
    "x = metrics.get_all_commit_all_metrics()"
   ]
  },
  {
   "cell_type": "code",
   "execution_count": 5,
   "metadata": {},
   "outputs": [],
   "source": [
    "metrics.save_to_csv()"
   ]
  },
  {
   "cell_type": "code",
   "execution_count": null,
   "metadata": {},
   "outputs": [],
   "source": [
    "df = pd.read_csv('/Users/suvodeepmajumder/Documents/AI4SE/refactor_miner/results/refactored/eclipse-themes.csv')"
   ]
  },
  {
   "cell_type": "code",
   "execution_count": null,
   "metadata": {},
   "outputs": [],
   "source": [
    "matcher = regex_matcher.regex_matcher()"
   ]
  },
  {
   "cell_type": "code",
   "execution_count": null,
   "metadata": {},
   "outputs": [],
   "source": [
    "df['before_class'] = [0]*df.shape[0]\n",
    "df['after_class'] = [0]*df.shape[0]"
   ]
  },
  {
   "cell_type": "code",
   "execution_count": null,
   "metadata": {},
   "outputs": [],
   "source": [
    "for i in range(df.shape[0]):\n",
    "    refactoring_type = df.iloc[i,1]\n",
    "    refactoring_details = df.iloc[i,2]\n",
    "    print(refactoring_type)\n",
    "    before_class, after_class = matcher.case_statements(refactoring_type,refactoring_details)\n",
    "    df.iloc[i,3] = before_class\n",
    "    df.iloc[i,4] = after_class"
   ]
  },
  {
   "cell_type": "code",
   "execution_count": null,
   "metadata": {},
   "outputs": [],
   "source": [
    "u_commits = df.CommitId.unique()"
   ]
  },
  {
   "cell_type": "code",
   "execution_count": null,
   "metadata": {},
   "outputs": [],
   "source": [
    "for commit in u_commits:\n",
    "    b_class = df[df['CommitId'] == commit].before_class.values\n",
    "    print(b_class)\n",
    "    "
   ]
  },
  {
   "cell_type": "code",
   "execution_count": null,
   "metadata": {},
   "outputs": [],
   "source": [
    "x.columns"
   ]
  },
  {
   "cell_type": "code",
   "execution_count": 8,
   "metadata": {},
   "outputs": [],
   "source": [
    "from sklearn.tree import DecisionTreeClassifier\n",
    "from sklearn.model_selection import train_test_split\n",
    "from sklearn.metrics import classification_report"
   ]
  },
  {
   "cell_type": "code",
   "execution_count": 28,
   "metadata": {},
   "outputs": [],
   "source": [
    "df = x\n",
    "y = df.Refactored\n",
    "X = df.drop(labels=['Name','Type','Refactored'],axis=1)"
   ]
  },
  {
   "cell_type": "code",
   "execution_count": 29,
   "metadata": {},
   "outputs": [],
   "source": [
    "train_X,test_X,train_y,test_y = train_test_split(X, y, test_size=0.33, random_state=42)"
   ]
  },
  {
   "cell_type": "code",
   "execution_count": 30,
   "metadata": {},
   "outputs": [
    {
     "data": {
      "text/plain": [
       "DecisionTreeClassifier(class_weight=None, criterion='entropy', max_depth=None,\n",
       "            max_features=None, max_leaf_nodes=None,\n",
       "            min_impurity_decrease=0.0, min_impurity_split=None,\n",
       "            min_samples_leaf=1, min_samples_split=2,\n",
       "            min_weight_fraction_leaf=0.0, presort=False, random_state=None,\n",
       "            splitter='best')"
      ]
     },
     "execution_count": 30,
     "metadata": {},
     "output_type": "execute_result"
    }
   ],
   "source": [
    "clf = DecisionTreeClassifier(criterion='entropy')\n",
    "clf.fit(train_X,train_y)"
   ]
  },
  {
   "cell_type": "code",
   "execution_count": 31,
   "metadata": {},
   "outputs": [],
   "source": [
    "predicted = clf.predict(test_X)"
   ]
  },
  {
   "cell_type": "code",
   "execution_count": 32,
   "metadata": {},
   "outputs": [
    {
     "name": "stdout",
     "output_type": "stream",
     "text": [
      "              precision    recall  f1-score   support\n",
      "\n",
      "         0.0       0.92      0.97      0.94       252\n",
      "         1.0       0.60      0.35      0.44        34\n",
      "\n",
      "   micro avg       0.90      0.90      0.90       286\n",
      "   macro avg       0.76      0.66      0.69       286\n",
      "weighted avg       0.88      0.90      0.88       286\n",
      "\n"
     ]
    }
   ],
   "source": [
    "print(classification_report(test_y, predicted))"
   ]
  },
  {
   "cell_type": "code",
   "execution_count": null,
   "metadata": {},
   "outputs": [],
   "source": [
    "if '40924472104df02759a355a85466a76a587f6931' in metrics.unique_commits:\n",
    "    print('aye')"
   ]
  },
  {
   "cell_type": "code",
   "execution_count": 33,
   "metadata": {},
   "outputs": [
    {
     "data": {
      "text/plain": [
       "Index(['AvgCyclomatic', 'AvgCyclomaticModified', 'AvgCyclomaticStrict',\n",
       "       'AvgEssential', 'AvgLine', 'AvgLineBlank', 'AvgLineCode',\n",
       "       'AvgLineComment', 'CountClassBase', 'CountClassCoupled',\n",
       "       'CountClassDerived', 'CountDeclClassMethod', 'CountDeclClassVariable',\n",
       "       'CountDeclInstanceMethod', 'CountDeclInstanceVariable',\n",
       "       'CountDeclMethod', 'CountDeclMethodAll', 'CountDeclMethodDefault',\n",
       "       'CountDeclMethodPrivate', 'CountDeclMethodProtected',\n",
       "       'CountDeclMethodPublic', 'CountLine', 'CountLineBlank', 'CountLineCode',\n",
       "       'CountLineCodeDecl', 'CountLineCodeExe', 'CountLineComment',\n",
       "       'CountSemicolon', 'CountStmt', 'CountStmtDecl', 'CountStmtExe',\n",
       "       'MaxCyclomatic', 'MaxCyclomaticModified', 'MaxCyclomaticStrict',\n",
       "       'MaxEssential', 'MaxInheritanceTree', 'MaxNesting',\n",
       "       'PercentLackOfCohesion', 'PercentLackOfCohesionModified',\n",
       "       'RatioCommentToCode', 'SumCyclomatic', 'SumCyclomaticModified',\n",
       "       'SumCyclomaticStrict', 'SumEssential'],\n",
       "      dtype='object')"
      ]
     },
     "execution_count": 33,
     "metadata": {},
     "output_type": "execute_result"
    }
   ],
   "source": [
    "X.columns"
   ]
  },
  {
   "cell_type": "code",
   "execution_count": null,
   "metadata": {},
   "outputs": [],
   "source": []
  }
 ],
 "metadata": {
  "kernelspec": {
   "display_name": "Python 3",
   "language": "python",
   "name": "python3"
  },
  "language_info": {
   "codemirror_mode": {
    "name": "ipython",
    "version": 3
   },
   "file_extension": ".py",
   "mimetype": "text/x-python",
   "name": "python",
   "nbconvert_exporter": "python",
   "pygments_lexer": "ipython3",
   "version": "3.7.3"
  }
 },
 "nbformat": 4,
 "nbformat_minor": 2
}
