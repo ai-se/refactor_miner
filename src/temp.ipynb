{
 "cells": [
  {
   "cell_type": "code",
   "execution_count": null,
   "metadata": {},
   "outputs": [],
   "source": [
    "from refactoring_getter import refactormine\n",
    "from metrics_getter import git_understand\n",
    "from utils import regex_matcher\n",
    "import pandas as pd"
   ]
  },
  {
   "cell_type": "code",
   "execution_count": 2,
   "metadata": {},
   "outputs": [],
   "source": [
    "repo = 'https://github.com/jeeeyul/eclipse-themes.git'\n",
    "name = 'eclipse-themes'\n",
    "lang = 'java'"
   ]
  },
  {
   "cell_type": "code",
   "execution_count": null,
   "metadata": {},
   "outputs": [],
   "source": [
    "mine = refactormine.RefactorMine(repo,name)\n",
    "mine.get_refactored_commits()"
   ]
  },
  {
   "cell_type": "code",
   "execution_count": 3,
   "metadata": {},
   "outputs": [
    {
     "name": "stdout",
     "output_type": "stream",
     "text": [
      "/Users/suvodeepmajumder/Documents/AI4SE/refactor_miner/results/refactored/eclipse-themes.csv\n"
     ]
    }
   ],
   "source": [
    "metrics = git_understand.MetricsGetter(repo,name,lang)"
   ]
  },
  {
   "cell_type": "code",
   "execution_count": 41,
   "metadata": {},
   "outputs": [
    {
     "name": "stdout",
     "output_type": "stream",
     "text": [
      "63\n",
      "0 ('72f61ec9b85a740fd09d10ad711e275d2ec2e564', '60ca80df3f268c097c527f2708b38e5038777870')\n",
      "1 ('9be59b60a094db1cec0e8a908466b7ead3406b4c', 'd28b1e3acff732840ccc06ebbd5fbf352760236c')\n",
      "2 ('aa3f404075c2d3661e8e6e49c188a426798072bd', '4bb7fc57805d550efeb5a935aee6e152964c829b')\n",
      "3 ('57993ffdf3eebb8b7ff10e1684b58aff0a795d93', '57d649216b92575e89b0b3a991a67ea481c2ce8b')\n",
      "4 ('18241ca44c154ea4b7c5bb1c86bbc80a947de554', '8d14ab3552384cd6514fb7365b81603d9acc6e30')\n",
      "5 ('b677e70309d6ba1bfb9a722513cca4cfbc3518c6', 'f9b5a3d62c72d3e4fe857943beb512c854dbe4fc')\n",
      "6 ('2a79ef439016a0c9d37886d61ae18e8408ba3b0e', '3003335bd7e2e6398dd70e439c4a97eed6311e4e')\n",
      "7 ('947c1782fba80c650f3702a4257f964127cb3d61', 'fcc4b73ba92f4617409ee084c1ce0db828eb9421')\n",
      "8 ('23524f58902d9d6cd10ee0490b17166e3cc36d41', 'c9e58bcecde7470ea29a3277b3162fd5cccbb35f')\n",
      "9 ('c694fb2d8da17918a3b8420773419274596d812f', 'ff72f23643c8f8058cbb4499a62c4b5ac76cb204')\n",
      "10 ('c8a69ff14662927b835e9304996576eabce48e12', 'd8e13b09c0f80c3ed1e41519626de8b7fa59fd82')\n",
      "11 ('a9001e7280920353c9b2bb16b0276aeff6427692', 'ce4351109ff256f668eb218312a9e02efa46b848')\n",
      "12 ('736810307ca8c5486c971f6317313146c96a7e7c', 'bfc070adc35327be871d1e215500ee5011f382d5')\n",
      "13 ('bfc070adc35327be871d1e215500ee5011f382d5', '372d4b844c4250ce9b6235a549d9a0c5e41a426e')\n",
      "14 ('372d4b844c4250ce9b6235a549d9a0c5e41a426e', '9ac929d49fe6dc556813c91785088b1a663064db')\n",
      "15 ('d3cff22235e8912164745449584564d15946691c', '9579b4c9949a0a0602fda903e0556ea65c7ed15e')\n",
      "16 ('25eea1efa87fec9adbff1cb88a01637a4465f91b', '8a4b3b6866383331e67d5355027e432cb9f11216')\n",
      "17 ('e10f25a6ee1294cabc3a990c511502bc013b02e2', '3ff34d5ea1f51a3e42c4ed31bbaf625209fb0408')\n",
      "18 ('dc11d36d0f14f41974a23fd51afccf2f73bef681', '88b8d881d41bdc677fadfe0ea8d98ddc1cb8a8b7')\n",
      "19 ('1722fa38c9d462dbc103c2dcdebe091b4b682c1a', '9ae215651ad5d07bbf5532ff1545da7400672858')\n",
      "20 ('c9da55023c25a4fc619ac7e34fd32197eed98b45', '039c39a17e2549b5689e1e9e283179ee29c4e84d')\n",
      "21 ('3b458f582ff1fafcd81ac363ec8ada45ad2497b1', '9a5a57d65b7bcae1b2e169fd2763ce3a62fa940c')\n",
      "22 ('7e9bb3e518905c5c040aacdecb67deff0679f5c1', '03242a9187c737a3cdddaf001fff56d7aaedc82e')\n",
      "23 ('f4256d3b26281a00e6a5d8a28b0a0abd14e5076e', '587c65f76e9ea6ef4f9c9c63964a811ce97f2a7a')\n",
      "24 ('7cf5ce241eec01da164548c64697c82f5e686963', 'b58e8cee168d99f8929fd769c912e19d33942304')\n",
      "25 ('7107ddf84f02de41952e70a3032fd20d79d5671d', 'f087bb2ed93322e29b56cbc631f9dc5f52b79d10')\n",
      "26 ('c5628f8b07d2b017c27ff2d102e5eadcc74cb26e', '15d8c05938c586492883da1af51e7c59a04ab59a')\n",
      "27 ('94e33d988c1bc13b9f9fa03cc4d39fdf9bd5880c', 'c13c3216e41995af74ab63c4848d482c5d028e12')\n",
      "28 ('c13c3216e41995af74ab63c4848d482c5d028e12', '6b7f961509656c6464ddfc0fb13c6ba5199a092b')\n",
      "29 ('823e95009d755c0fce38bb7d30b2ce19a1a63f82', '80a3698de9ae8c1be3a81ad395bbae46a2c1c7d8')\n",
      "30 ('766ba11718e46b900c8ec371d7da9f2b6380de5b', 'a2ff0e392e381ddda68e6d223faa19a04d90bf94')\n",
      "31 ('c618291d308ec0e9324160e0b5d293e6f507de79', 'd3ef1ed940c592525992dade9dae3d1dafd1cf4d')\n",
      "32 ('4dc96eecd35fd3988a7c8078a8b4e2e76c18e3d8', '0da5d000b27bf714be3cdeca789eb24839353135')\n",
      "33 ('dedfe602da013aa54782cb6314fe29c894a07088', 'b4bdbf9eba10b60e6436d9c28fc5169d130789a5')\n",
      "34 ('d3e4dcf99c833fd7bacdabb6307dfb1263b94490', 'c8871fe2db4638b0ab77aea70b210912f17107a5')\n",
      "35 ('5ed1f01c949e6aeb5fbfd29b418bb94c782e8e99', 'bdcf3b109b05f00a65a69b8b718e6bb204eefbbd')\n",
      "36 ('c873574b3c7fd559563159f6fdbfc850711b78a3', 'f8421371eab5de912b644a479def863a3233183c')\n",
      "37 ('4b820526b7814950a5e270a697626ed6a547709f', '5414093f81594356ca68034dbf394faff6e6443b')\n",
      "38 ('800576463e4a324bef96d6334265babbd2b60325', '60d9785cc32e3bb7f1cfa21975e635fbb2434f09')\n",
      "39 ('60d9785cc32e3bb7f1cfa21975e635fbb2434f09', '0dcf8208705d50515845624e4ca1b6c2c211816d')\n",
      "40 ('0dcf8208705d50515845624e4ca1b6c2c211816d', 'd9d1268ec4738668ff4cf4b1aae9b0f447b60434')\n",
      "41 ('a983093c51bc23427cb8606468263837414982b4', 'bc9570947ba57a5678f5be9ad20b52b4e8cf15ca')\n",
      "42 ('cfd7a0beae19332055d1fc6f241a6996fd3e7e3c', 'bc6061c64fddce56c4ae35fde1d05133d753aa45')\n",
      "43 ('38be2cff587acb9da315e25ade2342a2910c9ed5', '546466df91581c0712bcb4b7abd2d9c449d180b0')\n",
      "44 ('54579b6640c6e984229cf63f01a79fa63690e3e2', '6101eb3e42639f83446d0af287a6463036549f3c')\n",
      "45 ('0352fdeb5c2e0b4bc667e8e006bdc6aa366ef82b', '529545f14d903201ffdfee4243b50c49007f0844')\n",
      "46 ('1c3b3b7b29f73251fe3c851046102e6adcbf325e', '701bb7f4deeb68a9af2c3c8bc2cfba1fb9fdb306')\n",
      "47 ('6238e554bd708c09fc6ffcee2fb7bc29ecf1f879', '3a874a7ccdc0470448d7aa330d1613be0aca1421')\n",
      "48 ('60fe89747ebe13ee51561aadaa7a72d9e011e398', '9d66b6f19cf2ddb65f6b98afa4fc1691a9f01698')\n",
      "49 ('9d66b6f19cf2ddb65f6b98afa4fc1691a9f01698', 'a5a5bad6f4efa8d9dbf844d7f3d4a6c0bd6f138a')\n",
      "50 ('e85c8a66197aa0b054128c87ba9b4a85e13520bb', 'f4e9fe80b9786e9ac22557ef13f6725582c75b84')\n",
      "51 ('18113b8f87130126a8e5346eb84d0a5354146601', '192386ab5c975d01e3787cc042f0f960d4a8d7b1')\n",
      "52 ('f54adca333bf02a3e34d813d825caa8e9b5ae415', '62c5e3cb7198bfefa35613c0484a257a26c2175f')\n",
      "53 ('2e564b601a68b2299b07c4346302f18253cfba90', '56c72547d9504a43c8bac1188c464655fe357727')\n",
      "54 ('56c72547d9504a43c8bac1188c464655fe357727', '45b76fecd4b3fafa148b7657201f5302781284eb')\n",
      "55 ('8d2607d69e94e7fea4c1f5e2b83d77c9a3eb6d47', '8eec5c6cdcc2b0002ba60246c2afb9cee73651ce')\n",
      "56 ('10dad4f18eb05e3a6f83bc48b985dbec0140fea9', 'ddfa5f042ec8c64d360bc1c409100bb394775e22')\n",
      "57 ('f7ab8ebaac5a0ac58c0828b02486dd1a44259752', 'e8cdf303dba642f6a2d97a5cbd71a32b5e33a322')\n",
      "58 ('e8cdf303dba642f6a2d97a5cbd71a32b5e33a322', '8a341728ee1697aa80ef7d11c523b2bf7f21e75d')\n",
      "59 ('1cef2a47dd326b064dc48810ce8a19b82d3d8109', 'a3c3f97a1a5c582f46fef10369bf22d441fe98e6')\n",
      "60 ('260de84f6fda0a1aee4a5fd477c173c9f5fa2116', '90c3e1973fc109ea1d248980140b64f05ddebb68')\n",
      "61 ('26246dfca0918fbb5ce921414f8030604ecc0b92', 'dff4878c7239c3c0fa2b997158be7128e3ad9e5c')\n",
      "62 ('82ae838ea227a398d10b702f32badaecfb7095c9', '8d1e54e7a0bc413fb7723a62ff290fd97d3928dd')\n"
     ]
    }
   ],
   "source": [
    "x = metrics.get_all_commit_all_metrics()"
   ]
  },
  {
   "cell_type": "code",
   "execution_count": null,
   "metadata": {},
   "outputs": [],
   "source": [
    "metrics.save_to_csv()"
   ]
  },
  {
   "cell_type": "code",
   "execution_count": 65,
   "metadata": {},
   "outputs": [],
   "source": [
    "df = pd.read_csv('/Users/suvodeepmajumder/Documents/AI4SE/refactor_miner/results/understand/eclipse-themes.csv')"
   ]
  },
  {
   "cell_type": "code",
   "execution_count": null,
   "metadata": {},
   "outputs": [],
   "source": [
    "matcher = regex_matcher.regex_matcher()"
   ]
  },
  {
   "cell_type": "code",
   "execution_count": null,
   "metadata": {},
   "outputs": [],
   "source": [
    "df['before_class'] = [0]*df.shape[0]\n",
    "df['after_class'] = [0]*df.shape[0]"
   ]
  },
  {
   "cell_type": "code",
   "execution_count": null,
   "metadata": {},
   "outputs": [],
   "source": [
    "for i in range(df.shape[0]):\n",
    "    refactoring_type = df.iloc[i,1]\n",
    "    refactoring_details = df.iloc[i,2]\n",
    "    print(refactoring_type)\n",
    "    before_class, after_class = matcher.case_statements(refactoring_type,refactoring_details)\n",
    "    df.iloc[i,3] = before_class\n",
    "    df.iloc[i,4] = after_class"
   ]
  },
  {
   "cell_type": "code",
   "execution_count": null,
   "metadata": {},
   "outputs": [],
   "source": [
    "u_commits = df.CommitId.unique()"
   ]
  },
  {
   "cell_type": "code",
   "execution_count": null,
   "metadata": {},
   "outputs": [],
   "source": [
    "for commit in u_commits:\n",
    "    b_class = df[df['CommitId'] == commit].before_class.values\n",
    "    print(b_class)\n",
    "    "
   ]
  },
  {
   "cell_type": "code",
   "execution_count": null,
   "metadata": {},
   "outputs": [],
   "source": [
    "x.columns"
   ]
  },
  {
   "cell_type": "code",
   "execution_count": 42,
   "metadata": {},
   "outputs": [],
   "source": [
    "from sklearn.tree import DecisionTreeClassifier\n",
    "from sklearn.model_selection import train_test_split\n",
    "from sklearn.metrics import classification_report\n",
    "from sklearn.linear_model import LogisticRegression"
   ]
  },
  {
   "cell_type": "code",
   "execution_count": 66,
   "metadata": {},
   "outputs": [],
   "source": [
    "#df = y\n",
    "y = df.Refactored\n",
    "X = df.drop(labels=['Name','Type','Refactored'],axis=1)"
   ]
  },
  {
   "cell_type": "code",
   "execution_count": 67,
   "metadata": {},
   "outputs": [],
   "source": [
    "train_X,test_X,train_y,test_y = train_test_split(X, y, test_size=0.33, random_state=42)"
   ]
  },
  {
   "cell_type": "code",
   "execution_count": 68,
   "metadata": {},
   "outputs": [
    {
     "name": "stderr",
     "output_type": "stream",
     "text": [
      "/anaconda3/lib/python3.7/site-packages/sklearn/linear_model/logistic.py:433: FutureWarning: Default solver will be changed to 'lbfgs' in 0.22. Specify a solver to silence this warning.\n",
      "  FutureWarning)\n"
     ]
    },
    {
     "name": "stdout",
     "output_type": "stream",
     "text": [
      "              precision    recall  f1-score   support\n",
      "\n",
      "         0.0       0.41      0.51      0.46        45\n",
      "         1.0       0.35      0.27      0.30        45\n",
      "\n",
      "   micro avg       0.39      0.39      0.39        90\n",
      "   macro avg       0.38      0.39      0.38        90\n",
      "weighted avg       0.38      0.39      0.38        90\n",
      "\n"
     ]
    },
    {
     "name": "stderr",
     "output_type": "stream",
     "text": [
      "/anaconda3/lib/python3.7/site-packages/sklearn/svm/base.py:931: ConvergenceWarning: Liblinear failed to converge, increase the number of iterations.\n",
      "  \"the number of iterations.\", ConvergenceWarning)\n"
     ]
    }
   ],
   "source": [
    "clf = LogisticRegression(penalty='l1',class_weight='balanced')\n",
    "clf.fit(train_X,train_y)\n",
    "predicted = clf.predict(test_X)\n",
    "print(classification_report(test_y, predicted))"
   ]
  },
  {
   "cell_type": "code",
   "execution_count": 34,
   "metadata": {},
   "outputs": [
    {
     "name": "stdout",
     "output_type": "stream",
     "text": [
      "              precision    recall  f1-score   support\n",
      "\n",
      "         0.0       0.67      0.82      0.74        17\n",
      "         1.0       0.00      0.00      0.00         7\n",
      "\n",
      "   micro avg       0.58      0.58      0.58        24\n",
      "   macro avg       0.33      0.41      0.37        24\n",
      "weighted avg       0.47      0.58      0.52        24\n",
      "\n"
     ]
    }
   ],
   "source": [
    "clf = DecisionTreeClassifier()\n",
    "clf.fit(train_X,train_y)\n",
    "predicted = clf.predict(test_X)\n",
    "print(classification_report(test_y, predicted))"
   ]
  },
  {
   "cell_type": "code",
   "execution_count": 69,
   "metadata": {},
   "outputs": [],
   "source": [
    "y = x.drop_duplicates(keep = False,subset = ['AvgCyclomatic', 'AvgCyclomaticModified', 'AvgCyclomaticStrict',\n",
    "       'AvgEssential', 'AvgLine', 'AvgLineBlank', 'AvgLineCode',\n",
    "       'AvgLineComment', 'CountClassBase', 'CountClassCoupled',\n",
    "       'CountClassDerived', 'CountDeclClassMethod', 'CountDeclClassVariable',\n",
    "       'CountDeclInstanceMethod', 'CountDeclInstanceVariable',\n",
    "       'CountDeclMethod', 'CountDeclMethodAll', 'CountDeclMethodDefault',\n",
    "       'CountDeclMethodPrivate', 'CountDeclMethodProtected',\n",
    "       'CountDeclMethodPublic', 'CountLine', 'CountLineBlank', 'CountLineCode',\n",
    "       'CountLineCodeDecl', 'CountLineCodeExe', 'CountLineComment',\n",
    "       'CountSemicolon', 'CountStmt', 'CountStmtDecl', 'CountStmtExe',\n",
    "       'MaxCyclomatic', 'MaxCyclomaticModified', 'MaxCyclomaticStrict',\n",
    "       'MaxEssential', 'MaxInheritanceTree', 'MaxNesting',\n",
    "       'PercentLackOfCohesion', 'PercentLackOfCohesionModified',\n",
    "       'RatioCommentToCode', 'SumCyclomatic',\n",
    "       'SumCyclomaticModified', 'SumCyclomaticStrict', 'SumEssential'])"
   ]
  },
  {
   "cell_type": "code",
   "execution_count": 70,
   "metadata": {},
   "outputs": [
    {
     "data": {
      "text/plain": [
       "(101, 47)"
      ]
     },
     "execution_count": 70,
     "metadata": {},
     "output_type": "execute_result"
    }
   ],
   "source": [
    "y.shape"
   ]
  },
  {
   "cell_type": "code",
   "execution_count": 64,
   "metadata": {},
   "outputs": [
    {
     "data": {
      "text/plain": [
       "array([[ 0.        ,  0.85143999,  0.        ,  0.        , -0.00432891,\n",
       "        -0.22402917,  0.        , -0.42426699,  0.39998302,  0.        ,\n",
       "         0.        , -0.24771824,  0.05429322,  0.13158053,  0.00638677,\n",
       "         0.        ,  0.        ,  0.        ,  0.09273394, -0.37251876,\n",
       "         0.        , -0.00854695,  0.03921522, -0.08719847,  0.03887857,\n",
       "         0.10806041, -0.00487914, -0.02317707,  0.0050598 ,  0.        ,\n",
       "         0.01209875, -0.04294465,  0.        ,  0.        ,  0.        ,\n",
       "        -0.47777529,  0.        ,  0.01206654, -0.01366824,  0.        ,\n",
       "         0.        ,  0.02665231, -0.03377923, -0.03805171]])"
      ]
     },
     "execution_count": 64,
     "metadata": {},
     "output_type": "execute_result"
    }
   ],
   "source": [
    "clf.coef_"
   ]
  },
  {
   "cell_type": "code",
   "execution_count": null,
   "metadata": {},
   "outputs": [],
   "source": []
  }
 ],
 "metadata": {
  "kernelspec": {
   "display_name": "Python 3",
   "language": "python",
   "name": "python3"
  },
  "language_info": {
   "codemirror_mode": {
    "name": "ipython",
    "version": 3
   },
   "file_extension": ".py",
   "mimetype": "text/x-python",
   "name": "python",
   "nbconvert_exporter": "python",
   "pygments_lexer": "ipython3",
   "version": "3.7.3"
  }
 },
 "nbformat": 4,
 "nbformat_minor": 2
}
